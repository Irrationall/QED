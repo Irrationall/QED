{
 "cells": [
  {
   "cell_type": "code",
   "execution_count": 1,
   "metadata": {},
   "outputs": [],
   "source": [
    "from qed.data.reader import readtxt\n",
    "from qed.data.query import get_enrichment_dataframes\n",
    "from qed.data.structure import merging_df\n",
    "import pandas as pd"
   ]
  },
  {
   "cell_type": "code",
   "execution_count": 9,
   "metadata": {},
   "outputs": [
    {
     "name": "stdout",
     "output_type": "stream",
     "text": [
      "Execution time for readtxt: 0.0010006427764892578 seconds\n",
      "Execution time for readtxt: 0.0019998550415039062 seconds\n"
     ]
    }
   ],
   "source": [
    "# Import example data\n",
    "# Seurat and Scanpt format: TBD\n",
    "\n",
    "alist = readtxt(\"./example_data/endocrinogenesis_rowside.csv\", sep=\",\", format=\"rowside\")\n",
    "blist = readtxt(\"./example_data/endocrinogenesis_colside.csv\", sep=\",\", format=\"colside\")"
   ]
  },
  {
   "cell_type": "code",
   "execution_count": 10,
   "metadata": {},
   "outputs": [
    {
     "data": {
      "text/plain": [
       "[geneset object [name: Alpha, number of genes: 109, number of GO_dataframes: 0],\n",
       " geneset object [name: Beta, number of genes: 159, number of GO_dataframes: 0],\n",
       " geneset object [name: Delta, number of genes: 51, number of GO_dataframes: 0],\n",
       " geneset object [name: Epsilon, number of genes: 68, number of GO_dataframes: 0],\n",
       " geneset object [name: EP, number of genes: 180, number of GO_dataframes: 0],\n",
       " geneset object [name: Ductal, number of genes: 150, number of GO_dataframes: 0],\n",
       " geneset object [name: Pre-endocrine, number of genes: 61, number of GO_dataframes: 0]]"
      ]
     },
     "execution_count": 10,
     "metadata": {},
     "output_type": "execute_result"
    }
   ],
   "source": [
    "alist"
   ]
  },
  {
   "cell_type": "code",
   "execution_count": 11,
   "metadata": {},
   "outputs": [],
   "source": [
    "dblist = ['KEGG_2021_Human','Reactome_2022','MSigDB_Hallmark_2020','GO_Biological_Process_2021']"
   ]
  },
  {
   "cell_type": "code",
   "execution_count": 12,
   "metadata": {},
   "outputs": [
    {
     "data": {
      "application/vnd.jupyter.widget-view+json": {
       "model_id": "d50bb7264dec465d9693623fd05673e4",
       "version_major": 2,
       "version_minor": 0
      },
      "text/plain": [
       "Processing genesets:   0%|          | 0/7 [00:00<?, ?it/s]"
      ]
     },
     "metadata": {},
     "output_type": "display_data"
    }
   ],
   "source": [
    "aalist = get_enrichment_dataframes(alist, dblist, \"Celltype\", n_jobs=None)"
   ]
  },
  {
   "cell_type": "code",
   "execution_count": 13,
   "metadata": {},
   "outputs": [
    {
     "data": {
      "text/plain": [
       "[geneset object [name: Alpha, number of genes: 109, number of GO_dataframes: 4],\n",
       " geneset object [name: Beta, number of genes: 159, number of GO_dataframes: 4],\n",
       " geneset object [name: Delta, number of genes: 51, number of GO_dataframes: 4],\n",
       " geneset object [name: Epsilon, number of genes: 68, number of GO_dataframes: 4],\n",
       " geneset object [name: EP, number of genes: 180, number of GO_dataframes: 4],\n",
       " geneset object [name: Ductal, number of genes: 150, number of GO_dataframes: 4],\n",
       " geneset object [name: Pre-endocrine, number of genes: 61, number of GO_dataframes: 4]]"
      ]
     },
     "execution_count": 13,
     "metadata": {},
     "output_type": "execute_result"
    }
   ],
   "source": [
    "aalist"
   ]
  },
  {
   "cell_type": "code",
   "execution_count": 14,
   "metadata": {},
   "outputs": [
    {
     "data": {
      "text/html": [
       "<div>\n",
       "<style scoped>\n",
       "    .dataframe tbody tr th:only-of-type {\n",
       "        vertical-align: middle;\n",
       "    }\n",
       "\n",
       "    .dataframe tbody tr th {\n",
       "        vertical-align: top;\n",
       "    }\n",
       "\n",
       "    .dataframe thead th {\n",
       "        text-align: right;\n",
       "    }\n",
       "</style>\n",
       "<table border=\"1\" class=\"dataframe\">\n",
       "  <thead>\n",
       "    <tr style=\"text-align: right;\">\n",
       "      <th></th>\n",
       "      <th>Rank</th>\n",
       "      <th>Term</th>\n",
       "      <th>P-value</th>\n",
       "      <th>Odds ratio</th>\n",
       "      <th>Combined score</th>\n",
       "      <th>Overlapping genes</th>\n",
       "      <th>Adjusted p-value</th>\n",
       "      <th>Old p-value</th>\n",
       "      <th>Old adjusted p-value</th>\n",
       "      <th>Database</th>\n",
       "      <th>Celltype</th>\n",
       "    </tr>\n",
       "  </thead>\n",
       "  <tbody>\n",
       "    <tr>\n",
       "      <th>0</th>\n",
       "      <td>1</td>\n",
       "      <td>Pancreas Beta Cells</td>\n",
       "      <td>1.888850e-09</td>\n",
       "      <td>41.297089</td>\n",
       "      <td>829.546906</td>\n",
       "      <td>[PCSK2, DPP4, SCGN, ABCC8, GCG, IAPP, ISL1]</td>\n",
       "      <td>4.533240e-08</td>\n",
       "      <td>0</td>\n",
       "      <td>0</td>\n",
       "      <td>MSigDB_Hallmark_2020</td>\n",
       "      <td>Alpha</td>\n",
       "    </tr>\n",
       "    <tr>\n",
       "      <th>1</th>\n",
       "      <td>2</td>\n",
       "      <td>KRAS Signaling Up</td>\n",
       "      <td>1.392889e-05</td>\n",
       "      <td>8.126650</td>\n",
       "      <td>90.868511</td>\n",
       "      <td>[RBP4, PCSK1N, TSPAN7, SCG5, USH1C, CPE, SCG3,...</td>\n",
       "      <td>1.671466e-04</td>\n",
       "      <td>0</td>\n",
       "      <td>0</td>\n",
       "      <td>MSigDB_Hallmark_2020</td>\n",
       "      <td>Alpha</td>\n",
       "    </tr>\n",
       "    <tr>\n",
       "      <th>2</th>\n",
       "      <td>3</td>\n",
       "      <td>Myogenesis</td>\n",
       "      <td>2.394210e-02</td>\n",
       "      <td>3.827988</td>\n",
       "      <td>14.286499</td>\n",
       "      <td>[CAMK2B, NQO1, GPX3, NCAM1]</td>\n",
       "      <td>1.758437e-01</td>\n",
       "      <td>0</td>\n",
       "      <td>0</td>\n",
       "      <td>MSigDB_Hallmark_2020</td>\n",
       "      <td>Alpha</td>\n",
       "    </tr>\n",
       "    <tr>\n",
       "      <th>3</th>\n",
       "      <td>4</td>\n",
       "      <td>Reactive Oxygen Species Pathway</td>\n",
       "      <td>2.930728e-02</td>\n",
       "      <td>7.891827</td>\n",
       "      <td>27.857515</td>\n",
       "      <td>[NQO1, GPX3]</td>\n",
       "      <td>1.758437e-01</td>\n",
       "      <td>0</td>\n",
       "      <td>0</td>\n",
       "      <td>MSigDB_Hallmark_2020</td>\n",
       "      <td>Alpha</td>\n",
       "    </tr>\n",
       "    <tr>\n",
       "      <th>4</th>\n",
       "      <td>5</td>\n",
       "      <td>Spermatogenesis</td>\n",
       "      <td>3.763212e-02</td>\n",
       "      <td>4.236492</td>\n",
       "      <td>13.895260</td>\n",
       "      <td>[PCSK1N, SCG5, SCG3]</td>\n",
       "      <td>1.806342e-01</td>\n",
       "      <td>0</td>\n",
       "      <td>0</td>\n",
       "      <td>MSigDB_Hallmark_2020</td>\n",
       "      <td>Alpha</td>\n",
       "    </tr>\n",
       "    <tr>\n",
       "      <th>5</th>\n",
       "      <td>6</td>\n",
       "      <td>Epithelial Mesenchymal Transition</td>\n",
       "      <td>9.615827e-02</td>\n",
       "      <td>2.829327</td>\n",
       "      <td>6.625603</td>\n",
       "      <td>[RGS4, CDH2, SCG2]</td>\n",
       "      <td>3.310276e-01</td>\n",
       "      <td>0</td>\n",
       "      <td>0</td>\n",
       "      <td>MSigDB_Hallmark_2020</td>\n",
       "      <td>Alpha</td>\n",
       "    </tr>\n",
       "    <tr>\n",
       "      <th>6</th>\n",
       "      <td>7</td>\n",
       "      <td>Protein Secretion</td>\n",
       "      <td>9.655232e-02</td>\n",
       "      <td>3.936568</td>\n",
       "      <td>9.202398</td>\n",
       "      <td>[OCRL, PAM]</td>\n",
       "      <td>3.310276e-01</td>\n",
       "      <td>0</td>\n",
       "      <td>0</td>\n",
       "      <td>MSigDB_Hallmark_2020</td>\n",
       "      <td>Alpha</td>\n",
       "    </tr>\n",
       "    <tr>\n",
       "      <th>7</th>\n",
       "      <td>8</td>\n",
       "      <td>Pperoxisome</td>\n",
       "      <td>1.103425e-01</td>\n",
       "      <td>3.626351</td>\n",
       "      <td>7.993080</td>\n",
       "      <td>[TTR, ABCC8]</td>\n",
       "      <td>3.310276e-01</td>\n",
       "      <td>0</td>\n",
       "      <td>0</td>\n",
       "      <td>MSigDB_Hallmark_2020</td>\n",
       "      <td>Alpha</td>\n",
       "    </tr>\n",
       "    <tr>\n",
       "      <th>8</th>\n",
       "      <td>9</td>\n",
       "      <td>Hedgehog Signaling</td>\n",
       "      <td>1.787346e-01</td>\n",
       "      <td>5.252910</td>\n",
       "      <td>9.044741</td>\n",
       "      <td>[SCG2]</td>\n",
       "      <td>4.766255e-01</td>\n",
       "      <td>0</td>\n",
       "      <td>0</td>\n",
       "      <td>MSigDB_Hallmark_2020</td>\n",
       "      <td>Alpha</td>\n",
       "    </tr>\n",
       "    <tr>\n",
       "      <th>9</th>\n",
       "      <td>10</td>\n",
       "      <td>Xenobiotic Metabolism</td>\n",
       "      <td>2.975500e-01</td>\n",
       "      <td>1.859058</td>\n",
       "      <td>2.253500</td>\n",
       "      <td>[NQO1, RBP4]</td>\n",
       "      <td>6.491999e-01</td>\n",
       "      <td>0</td>\n",
       "      <td>0</td>\n",
       "      <td>MSigDB_Hallmark_2020</td>\n",
       "      <td>Alpha</td>\n",
       "    </tr>\n",
       "  </tbody>\n",
       "</table>\n",
       "</div>"
      ],
      "text/plain": [
       "   Rank                               Term       P-value  Odds ratio  \\\n",
       "0     1                Pancreas Beta Cells  1.888850e-09   41.297089   \n",
       "1     2                  KRAS Signaling Up  1.392889e-05    8.126650   \n",
       "2     3                         Myogenesis  2.394210e-02    3.827988   \n",
       "3     4    Reactive Oxygen Species Pathway  2.930728e-02    7.891827   \n",
       "4     5                    Spermatogenesis  3.763212e-02    4.236492   \n",
       "5     6  Epithelial Mesenchymal Transition  9.615827e-02    2.829327   \n",
       "6     7                  Protein Secretion  9.655232e-02    3.936568   \n",
       "7     8                        Pperoxisome  1.103425e-01    3.626351   \n",
       "8     9                 Hedgehog Signaling  1.787346e-01    5.252910   \n",
       "9    10              Xenobiotic Metabolism  2.975500e-01    1.859058   \n",
       "\n",
       "   Combined score                                  Overlapping genes  \\\n",
       "0      829.546906        [PCSK2, DPP4, SCGN, ABCC8, GCG, IAPP, ISL1]   \n",
       "1       90.868511  [RBP4, PCSK1N, TSPAN7, SCG5, USH1C, CPE, SCG3,...   \n",
       "2       14.286499                        [CAMK2B, NQO1, GPX3, NCAM1]   \n",
       "3       27.857515                                       [NQO1, GPX3]   \n",
       "4       13.895260                               [PCSK1N, SCG5, SCG3]   \n",
       "5        6.625603                                 [RGS4, CDH2, SCG2]   \n",
       "6        9.202398                                        [OCRL, PAM]   \n",
       "7        7.993080                                       [TTR, ABCC8]   \n",
       "8        9.044741                                             [SCG2]   \n",
       "9        2.253500                                       [NQO1, RBP4]   \n",
       "\n",
       "   Adjusted p-value  Old p-value  Old adjusted p-value              Database  \\\n",
       "0      4.533240e-08            0                     0  MSigDB_Hallmark_2020   \n",
       "1      1.671466e-04            0                     0  MSigDB_Hallmark_2020   \n",
       "2      1.758437e-01            0                     0  MSigDB_Hallmark_2020   \n",
       "3      1.758437e-01            0                     0  MSigDB_Hallmark_2020   \n",
       "4      1.806342e-01            0                     0  MSigDB_Hallmark_2020   \n",
       "5      3.310276e-01            0                     0  MSigDB_Hallmark_2020   \n",
       "6      3.310276e-01            0                     0  MSigDB_Hallmark_2020   \n",
       "7      3.310276e-01            0                     0  MSigDB_Hallmark_2020   \n",
       "8      4.766255e-01            0                     0  MSigDB_Hallmark_2020   \n",
       "9      6.491999e-01            0                     0  MSigDB_Hallmark_2020   \n",
       "\n",
       "  Celltype  \n",
       "0    Alpha  \n",
       "1    Alpha  \n",
       "2    Alpha  \n",
       "3    Alpha  \n",
       "4    Alpha  \n",
       "5    Alpha  \n",
       "6    Alpha  \n",
       "7    Alpha  \n",
       "8    Alpha  \n",
       "9    Alpha  "
      ]
     },
     "execution_count": 14,
     "metadata": {},
     "output_type": "execute_result"
    }
   ],
   "source": [
    "df = merging_df(aalist)\n",
    "df.head(10)"
   ]
  }
 ],
 "metadata": {
  "kernelspec": {
   "display_name": "Python 3",
   "language": "python",
   "name": "python3"
  },
  "language_info": {
   "codemirror_mode": {
    "name": "ipython",
    "version": 3
   },
   "file_extension": ".py",
   "mimetype": "text/x-python",
   "name": "python",
   "nbconvert_exporter": "python",
   "pygments_lexer": "ipython3",
   "version": "3.11.4"
  }
 },
 "nbformat": 4,
 "nbformat_minor": 2
}
