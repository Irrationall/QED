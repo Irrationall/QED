{
 "cells": [
  {
   "cell_type": "code",
   "execution_count": 1,
   "metadata": {},
   "outputs": [],
   "source": [
    "from qed.data.reader import readtxt\n",
    "from qed.data.query import get_enrichment_dataframes\n",
    "from qed.data.structure import merging_df\n",
    "import pandas as pd"
   ]
  },
  {
   "cell_type": "code",
   "execution_count": 2,
   "metadata": {},
   "outputs": [
    {
     "name": "stdout",
     "output_type": "stream",
     "text": [
      "Execution time for readtxt: 0.0012054443359375 seconds\n",
      "Execution time for readtxt: 0.004248380661010742 seconds\n"
     ]
    }
   ],
   "source": [
    "alist = readtxt(\"./example_data/endocrinogenesis_rowside.csv\", sep=\",\", format=\"rowside\")\n",
    "blist = readtxt(\"./example_data/endocrinogenesis_colside.csv\", sep=\",\", format=\"colside\")"
   ]
  },
  {
   "cell_type": "code",
   "execution_count": 3,
   "metadata": {},
   "outputs": [
    {
     "data": {
      "text/plain": [
       "[geneset object [name: Alpha, number of genes: 109, number of GO_dataframes: 0],\n",
       " geneset object [name: Beta, number of genes: 159, number of GO_dataframes: 0],\n",
       " geneset object [name: Delta, number of genes: 51, number of GO_dataframes: 0],\n",
       " geneset object [name: Epsilon, number of genes: 68, number of GO_dataframes: 0],\n",
       " geneset object [name: EP, number of genes: 180, number of GO_dataframes: 0],\n",
       " geneset object [name: Ductal, number of genes: 150, number of GO_dataframes: 0],\n",
       " geneset object [name: Pre-endocrine, number of genes: 61, number of GO_dataframes: 0]]"
      ]
     },
     "execution_count": 3,
     "metadata": {},
     "output_type": "execute_result"
    }
   ],
   "source": [
    "alist"
   ]
  },
  {
   "cell_type": "code",
   "execution_count": 4,
   "metadata": {},
   "outputs": [],
   "source": [
    "dblist = ['KEGG_2021_Human','Reactome_2022','MSigDB_Hallmark_2020','GO_Biological_Process_2021']"
   ]
  },
  {
   "cell_type": "code",
   "execution_count": 5,
   "metadata": {},
   "outputs": [
    {
     "data": {
      "application/vnd.jupyter.widget-view+json": {
       "model_id": "354b10ad1a9d41a4bbb9b54b6fbbe1a6",
       "version_major": 2,
       "version_minor": 0
      },
      "text/plain": [
       "Processing genesets:   0%|          | 0/7 [00:00<?, ?it/s]"
      ]
     },
     "metadata": {},
     "output_type": "display_data"
    }
   ],
   "source": [
    "aalist = get_enrichment_dataframes(alist, dblist, \"Celltype\")"
   ]
  },
  {
   "cell_type": "code",
   "execution_count": 6,
   "metadata": {},
   "outputs": [
    {
     "data": {
      "text/plain": [
       "[geneset object [name: Alpha, number of genes: 109, number of GO_dataframes: 4],\n",
       " geneset object [name: Beta, number of genes: 159, number of GO_dataframes: 4],\n",
       " geneset object [name: Delta, number of genes: 51, number of GO_dataframes: 4],\n",
       " geneset object [name: Epsilon, number of genes: 68, number of GO_dataframes: 4],\n",
       " geneset object [name: EP, number of genes: 180, number of GO_dataframes: 4],\n",
       " geneset object [name: Ductal, number of genes: 150, number of GO_dataframes: 4],\n",
       " geneset object [name: Pre-endocrine, number of genes: 61, number of GO_dataframes: 4]]"
      ]
     },
     "execution_count": 6,
     "metadata": {},
     "output_type": "execute_result"
    }
   ],
   "source": [
    "aalist"
   ]
  },
  {
   "cell_type": "code",
   "execution_count": 7,
   "metadata": {},
   "outputs": [
    {
     "data": {
      "text/html": [
       "<div>\n",
       "<style scoped>\n",
       "    .dataframe tbody tr th:only-of-type {\n",
       "        vertical-align: middle;\n",
       "    }\n",
       "\n",
       "    .dataframe tbody tr th {\n",
       "        vertical-align: top;\n",
       "    }\n",
       "\n",
       "    .dataframe thead th {\n",
       "        text-align: right;\n",
       "    }\n",
       "</style>\n",
       "<table border=\"1\" class=\"dataframe\">\n",
       "  <thead>\n",
       "    <tr style=\"text-align: right;\">\n",
       "      <th></th>\n",
       "      <th>Rank</th>\n",
       "      <th>Term</th>\n",
       "      <th>P-value</th>\n",
       "      <th>Odds ratio</th>\n",
       "      <th>Combined score</th>\n",
       "      <th>Overlapping genes</th>\n",
       "      <th>Adjusted p-value</th>\n",
       "      <th>Old p-value</th>\n",
       "      <th>Old adjusted p-value</th>\n",
       "      <th>Database</th>\n",
       "      <th>Celltype</th>\n",
       "    </tr>\n",
       "  </thead>\n",
       "  <tbody>\n",
       "    <tr>\n",
       "      <th>0</th>\n",
       "      <td>1</td>\n",
       "      <td>Pancreas Beta Cells</td>\n",
       "      <td>1.888850e-09</td>\n",
       "      <td>41.297089</td>\n",
       "      <td>829.546906</td>\n",
       "      <td>[PCSK2, DPP4, SCGN, ABCC8, GCG, IAPP, ISL1]</td>\n",
       "      <td>4.533240e-08</td>\n",
       "      <td>0</td>\n",
       "      <td>0</td>\n",
       "      <td>MSigDB_Hallmark_2020</td>\n",
       "      <td>Alpha</td>\n",
       "    </tr>\n",
       "    <tr>\n",
       "      <th>1</th>\n",
       "      <td>2</td>\n",
       "      <td>KRAS Signaling Up</td>\n",
       "      <td>1.392889e-05</td>\n",
       "      <td>8.126650</td>\n",
       "      <td>90.868511</td>\n",
       "      <td>[RBP4, PCSK1N, TSPAN7, SCG5, USH1C, CPE, SCG3,...</td>\n",
       "      <td>1.671466e-04</td>\n",
       "      <td>0</td>\n",
       "      <td>0</td>\n",
       "      <td>MSigDB_Hallmark_2020</td>\n",
       "      <td>Alpha</td>\n",
       "    </tr>\n",
       "    <tr>\n",
       "      <th>2</th>\n",
       "      <td>3</td>\n",
       "      <td>Myogenesis</td>\n",
       "      <td>2.394210e-02</td>\n",
       "      <td>3.827988</td>\n",
       "      <td>14.286499</td>\n",
       "      <td>[CAMK2B, NQO1, GPX3, NCAM1]</td>\n",
       "      <td>1.758437e-01</td>\n",
       "      <td>0</td>\n",
       "      <td>0</td>\n",
       "      <td>MSigDB_Hallmark_2020</td>\n",
       "      <td>Alpha</td>\n",
       "    </tr>\n",
       "    <tr>\n",
       "      <th>3</th>\n",
       "      <td>4</td>\n",
       "      <td>Reactive Oxygen Species Pathway</td>\n",
       "      <td>2.930728e-02</td>\n",
       "      <td>7.891827</td>\n",
       "      <td>27.857515</td>\n",
       "      <td>[NQO1, GPX3]</td>\n",
       "      <td>1.758437e-01</td>\n",
       "      <td>0</td>\n",
       "      <td>0</td>\n",
       "      <td>MSigDB_Hallmark_2020</td>\n",
       "      <td>Alpha</td>\n",
       "    </tr>\n",
       "    <tr>\n",
       "      <th>4</th>\n",
       "      <td>5</td>\n",
       "      <td>Spermatogenesis</td>\n",
       "      <td>3.763212e-02</td>\n",
       "      <td>4.236492</td>\n",
       "      <td>13.895260</td>\n",
       "      <td>[PCSK1N, SCG5, SCG3]</td>\n",
       "      <td>1.806342e-01</td>\n",
       "      <td>0</td>\n",
       "      <td>0</td>\n",
       "      <td>MSigDB_Hallmark_2020</td>\n",
       "      <td>Alpha</td>\n",
       "    </tr>\n",
       "    <tr>\n",
       "      <th>...</th>\n",
       "      <td>...</td>\n",
       "      <td>...</td>\n",
       "      <td>...</td>\n",
       "      <td>...</td>\n",
       "      <td>...</td>\n",
       "      <td>...</td>\n",
       "      <td>...</td>\n",
       "      <td>...</td>\n",
       "      <td>...</td>\n",
       "      <td>...</td>\n",
       "      <td>...</td>\n",
       "    </tr>\n",
       "    <tr>\n",
       "      <th>645</th>\n",
       "      <td>439</td>\n",
       "      <td>positive regulation of cell population prolife...</td>\n",
       "      <td>7.689979e-01</td>\n",
       "      <td>0.685906</td>\n",
       "      <td>0.180165</td>\n",
       "      <td>[PGF]</td>\n",
       "      <td>7.760047e-01</td>\n",
       "      <td>0</td>\n",
       "      <td>0</td>\n",
       "      <td>GO_Biological_Process_2021</td>\n",
       "      <td>Pre-endocrine</td>\n",
       "    </tr>\n",
       "    <tr>\n",
       "      <th>646</th>\n",
       "      <td>440</td>\n",
       "      <td>negative regulation of apoptotic process (GO:0...</td>\n",
       "      <td>7.768152e-01</td>\n",
       "      <td>0.669938</td>\n",
       "      <td>0.169195</td>\n",
       "      <td>[POU3F4]</td>\n",
       "      <td>7.821117e-01</td>\n",
       "      <td>0</td>\n",
       "      <td>0</td>\n",
       "      <td>GO_Biological_Process_2021</td>\n",
       "      <td>Pre-endocrine</td>\n",
       "    </tr>\n",
       "    <tr>\n",
       "      <th>647</th>\n",
       "      <td>441</td>\n",
       "      <td>protein phosphorylation (GO:0006468)</td>\n",
       "      <td>7.843722e-01</td>\n",
       "      <td>0.654680</td>\n",
       "      <td>0.159003</td>\n",
       "      <td>[PDK3]</td>\n",
       "      <td>7.879294e-01</td>\n",
       "      <td>0</td>\n",
       "      <td>0</td>\n",
       "      <td>GO_Biological_Process_2021</td>\n",
       "      <td>Pre-endocrine</td>\n",
       "    </tr>\n",
       "    <tr>\n",
       "      <th>648</th>\n",
       "      <td>442</td>\n",
       "      <td>positive regulation of intracellular signal tr...</td>\n",
       "      <td>8.156687e-01</td>\n",
       "      <td>0.593089</td>\n",
       "      <td>0.120840</td>\n",
       "      <td>[BCAR3]</td>\n",
       "      <td>8.175141e-01</td>\n",
       "      <td>0</td>\n",
       "      <td>0</td>\n",
       "      <td>GO_Biological_Process_2021</td>\n",
       "      <td>Pre-endocrine</td>\n",
       "    </tr>\n",
       "    <tr>\n",
       "      <th>649</th>\n",
       "      <td>443</td>\n",
       "      <td>cytokine-mediated signaling pathway (GO:0019221)</td>\n",
       "      <td>8.544168e-01</td>\n",
       "      <td>0.519328</td>\n",
       "      <td>0.081709</td>\n",
       "      <td>[ST18]</td>\n",
       "      <td>8.544168e-01</td>\n",
       "      <td>0</td>\n",
       "      <td>0</td>\n",
       "      <td>GO_Biological_Process_2021</td>\n",
       "      <td>Pre-endocrine</td>\n",
       "    </tr>\n",
       "  </tbody>\n",
       "</table>\n",
       "<p>9328 rows × 11 columns</p>\n",
       "</div>"
      ],
      "text/plain": [
       "     Rank                                               Term       P-value  \\\n",
       "0       1                                Pancreas Beta Cells  1.888850e-09   \n",
       "1       2                                  KRAS Signaling Up  1.392889e-05   \n",
       "2       3                                         Myogenesis  2.394210e-02   \n",
       "3       4                    Reactive Oxygen Species Pathway  2.930728e-02   \n",
       "4       5                                    Spermatogenesis  3.763212e-02   \n",
       "..    ...                                                ...           ...   \n",
       "645   439  positive regulation of cell population prolife...  7.689979e-01   \n",
       "646   440  negative regulation of apoptotic process (GO:0...  7.768152e-01   \n",
       "647   441               protein phosphorylation (GO:0006468)  7.843722e-01   \n",
       "648   442  positive regulation of intracellular signal tr...  8.156687e-01   \n",
       "649   443   cytokine-mediated signaling pathway (GO:0019221)  8.544168e-01   \n",
       "\n",
       "     Odds ratio  Combined score  \\\n",
       "0     41.297089      829.546906   \n",
       "1      8.126650       90.868511   \n",
       "2      3.827988       14.286499   \n",
       "3      7.891827       27.857515   \n",
       "4      4.236492       13.895260   \n",
       "..          ...             ...   \n",
       "645    0.685906        0.180165   \n",
       "646    0.669938        0.169195   \n",
       "647    0.654680        0.159003   \n",
       "648    0.593089        0.120840   \n",
       "649    0.519328        0.081709   \n",
       "\n",
       "                                     Overlapping genes  Adjusted p-value  \\\n",
       "0          [PCSK2, DPP4, SCGN, ABCC8, GCG, IAPP, ISL1]      4.533240e-08   \n",
       "1    [RBP4, PCSK1N, TSPAN7, SCG5, USH1C, CPE, SCG3,...      1.671466e-04   \n",
       "2                          [CAMK2B, NQO1, GPX3, NCAM1]      1.758437e-01   \n",
       "3                                         [NQO1, GPX3]      1.758437e-01   \n",
       "4                                 [PCSK1N, SCG5, SCG3]      1.806342e-01   \n",
       "..                                                 ...               ...   \n",
       "645                                              [PGF]      7.760047e-01   \n",
       "646                                           [POU3F4]      7.821117e-01   \n",
       "647                                             [PDK3]      7.879294e-01   \n",
       "648                                            [BCAR3]      8.175141e-01   \n",
       "649                                             [ST18]      8.544168e-01   \n",
       "\n",
       "     Old p-value  Old adjusted p-value                    Database  \\\n",
       "0              0                     0        MSigDB_Hallmark_2020   \n",
       "1              0                     0        MSigDB_Hallmark_2020   \n",
       "2              0                     0        MSigDB_Hallmark_2020   \n",
       "3              0                     0        MSigDB_Hallmark_2020   \n",
       "4              0                     0        MSigDB_Hallmark_2020   \n",
       "..           ...                   ...                         ...   \n",
       "645            0                     0  GO_Biological_Process_2021   \n",
       "646            0                     0  GO_Biological_Process_2021   \n",
       "647            0                     0  GO_Biological_Process_2021   \n",
       "648            0                     0  GO_Biological_Process_2021   \n",
       "649            0                     0  GO_Biological_Process_2021   \n",
       "\n",
       "          Celltype  \n",
       "0            Alpha  \n",
       "1            Alpha  \n",
       "2            Alpha  \n",
       "3            Alpha  \n",
       "4            Alpha  \n",
       "..             ...  \n",
       "645  Pre-endocrine  \n",
       "646  Pre-endocrine  \n",
       "647  Pre-endocrine  \n",
       "648  Pre-endocrine  \n",
       "649  Pre-endocrine  \n",
       "\n",
       "[9328 rows x 11 columns]"
      ]
     },
     "execution_count": 7,
     "metadata": {},
     "output_type": "execute_result"
    }
   ],
   "source": [
    "df = merging_df(aalist)\n",
    "df"
   ]
  }
 ],
 "metadata": {
  "kernelspec": {
   "display_name": "Python 3",
   "language": "python",
   "name": "python3"
  },
  "language_info": {
   "codemirror_mode": {
    "name": "ipython",
    "version": 3
   },
   "file_extension": ".py",
   "mimetype": "text/x-python",
   "name": "python",
   "nbconvert_exporter": "python",
   "pygments_lexer": "ipython3",
   "version": "3.11.4"
  }
 },
 "nbformat": 4,
 "nbformat_minor": 2
}
